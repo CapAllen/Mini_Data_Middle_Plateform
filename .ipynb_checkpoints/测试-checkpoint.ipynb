{
 "cells": [
  {
   "cell_type": "code",
   "execution_count": 76,
   "metadata": {},
   "outputs": [],
   "source": [
    "import pymysql\n",
    "import pandas as pd\n",
    "import json\n",
    "import re"
   ]
  },
  {
   "cell_type": "code",
   "execution_count": 77,
   "metadata": {},
   "outputs": [],
   "source": [
    "import requests\n",
    "import datetime\n",
    "from bs4 import BeautifulSoup"
   ]
  },
  {
   "cell_type": "code",
   "execution_count": 78,
   "metadata": {},
   "outputs": [],
   "source": [
    "import os"
   ]
  },
  {
   "cell_type": "code",
   "execution_count": 79,
   "metadata": {},
   "outputs": [],
   "source": [
    "import redis\n",
    "from xpinyin import Pinyin"
   ]
  },
  {
   "cell_type": "code",
   "execution_count": 118,
   "metadata": {},
   "outputs": [],
   "source": [
    "con = pymysql.connect(\n",
    "    host='192.168.10.113',\n",
    "    user='jiashengjie',\n",
    "    password='jiashengjie',\n",
    "    database='gaokao')"
   ]
  },
  {
   "cell_type": "code",
   "execution_count": 12,
   "metadata": {},
   "outputs": [],
   "source": []
  },
  {
   "cell_type": "markdown",
   "metadata": {},
   "source": [
    "## 首页新闻"
   ]
  },
  {
   "cell_type": "code",
   "execution_count": 28,
   "metadata": {},
   "outputs": [],
   "source": [
    "headers = {\n",
    "    'User-Agent': 'Mozilla/5.0 (Windows NT 6.1; Win64; x64; rv:79.0) Gecko/20100101 Firefox/79.0',\n",
    "    'Accept-Language': 'zh-CN,zh;q=0.8,zh-TW;q=0.7,zh-HK;q=0.5,en-US;q=0.3,en;q=0.2',\n",
    "    'Accept-Encoding': 'gzip, deflate',\n",
    "}"
   ]
  },
  {
   "cell_type": "code",
   "execution_count": 35,
   "metadata": {},
   "outputs": [],
   "source": [
    "day_3_ago = str(datetime.date.today() -\n",
    "                datetime.timedelta(days=3))"
   ]
  },
  {
   "cell_type": "code",
   "execution_count": 36,
   "metadata": {},
   "outputs": [],
   "source": [
    "class Basic_Spyder():\n",
    "\n",
    "    def start_scrap(self, part_url_dict, rule_func):\n",
    "        result = {}\n",
    "        for part_name, part_url in part_url_dict.items():\n",
    "            res = requests.get(part_url, headers=headers)\n",
    "            soup = BeautifulSoup(res.content, 'html.parser')\n",
    "            item_lst = rule_func(soup)\n",
    "            result[part_name] = item_lst\n",
    "        \n",
    "        # 剔除列表为空的子版块\n",
    "        result = {key:value for key,value in result.items() if len(value)>1}\n",
    "\n",
    "        return result"
   ]
  },
  {
   "cell_type": "code",
   "execution_count": 39,
   "metadata": {},
   "outputs": [],
   "source": [
    "# 教育部\n",
    "gj_edu_url_dict = {'公告公示': 'http://www.moe.gov.cn/jyb_xxgk/s5743/s5972/',\n",
    "                   '最新文件': 'http://www.moe.gov.cn/was5/web/search?channelid=239993',\n",
    "                   '工作动态': 'http://www.moe.gov.cn/jyb_xwfb/gzdt_gzdt/'}"
   ]
  },
  {
   "cell_type": "code",
   "execution_count": 72,
   "metadata": {},
   "outputs": [],
   "source": [
    "def gj_edu_rule(soup):\n",
    "    item_lst = []\n",
    "    base_url = 'http://www.moe.gov.cn/'\n",
    "    gzdt_base_url = 'http://www.moe.gov.cn/jyb_xwfb/gzdt_gzdt/'\n",
    "    part = soup.find('h2').get_text()\n",
    "    if part == '重要文件':\n",
    "        news_lst = soup.find_all('ul')[6].find_all('li')\n",
    "    else:\n",
    "        news_lst = soup.find('ul',id='list').find_all('li')\n",
    "    \n",
    "    for item in news_lst:\n",
    "        item_dict = {}\n",
    "        post_date = item.find('span').get_text()\n",
    "        if post_date < day_3_ago:\n",
    "            break\n",
    "        title = item.find('a').get_text()\n",
    "        if part == '重要文件':\n",
    "            article_url = item.find('a')['href']\n",
    "        elif part == '工作动态':\n",
    "            article_url = base_url + item.find('a')['href'].split('./')[-1]\n",
    "        else:\n",
    "            article_url = base_url + item.find('a')['href'].split('../')[-1]\n",
    "        item_dict['post_date'] = post_date\n",
    "        item_dict['title'] = title\n",
    "        item_dict['article_url'] = article_url\n",
    "        item_lst.append(item_dict)\n",
    "    return item_lst"
   ]
  },
  {
   "cell_type": "code",
   "execution_count": 73,
   "metadata": {},
   "outputs": [],
   "source": [
    "basic_spyder = Basic_Spyder()"
   ]
  },
  {
   "cell_type": "code",
   "execution_count": 74,
   "metadata": {},
   "outputs": [],
   "source": [
    "\n",
    "gj_edu_result = basic_spyder.start_scrap(gj_edu_url_dict, gj_edu_rule)"
   ]
  },
  {
   "cell_type": "code",
   "execution_count": 75,
   "metadata": {
    "collapsed": true
   },
   "outputs": [
    {
     "data": {
      "text/plain": [
       "{'公告公示': [{'post_date': '2020-08-28',\n",
       "   'title': '教育部办公厅关于做好2020年全国成人高校招生工作的通知',\n",
       "   'article_url': 'http://www.moe.gov.cn/srcsite/A15/moe_777/202008/t20200827_480730.html'},\n",
       "  {'post_date': '2020-08-28',\n",
       "   'title': '教育部关于同意南昌职业大学变更举办者的批复',\n",
       "   'article_url': 'http://www.moe.gov.cn/srcsite/A03/s181/202008/t20200827_480681.html'},\n",
       "  {'post_date': '2020-08-28',\n",
       "   'title': '教育部关于同意北京邮电大学世纪学院变更举办者之一和办学地址的批复',\n",
       "   'article_url': 'http://www.moe.gov.cn/srcsite/A03/s181/202008/t20200827_480708.html'},\n",
       "  {'post_date': '2020-08-28',\n",
       "   'title': '教育部关于同意四川外国语大学重庆南方翻译学院变更举办者之一的批复',\n",
       "   'article_url': 'http://www.moe.gov.cn/srcsite/A03/s181/202008/t20200827_480696.html'},\n",
       "  {'post_date': '2020-08-28',\n",
       "   'title': '教育部关于同意沈阳城市建设学院变更举办者的批复',\n",
       "   'article_url': 'http://www.moe.gov.cn/srcsite/A03/s181/202008/t20200827_480716.html'}],\n",
       " '工作动态': [{'post_date': '2020-08-28',\n",
       "   'title': '关于收看2020年“开学第一课”的提示',\n",
       "   'article_url': 'http://www.moe.gov.cn/s5987/202008/t20200828_481754.html'},\n",
       "  {'post_date': '2020-08-28',\n",
       "   'title': '教育部、工业和信息化部联合启动现代产业学院建设工作',\n",
       "   'article_url': 'http://www.moe.gov.cn/s5987/202008/t20200828_481664.html'},\n",
       "  {'post_date': '2020-08-27',\n",
       "   'title': '教育部江西省共建职业教育创新发展高地',\n",
       "   'article_url': 'http://www.moe.gov.cn/moe_1485/202008/t20200827_480464.html'},\n",
       "  {'post_date': '2020-08-26',\n",
       "   'title': '教育部召开义务教育课程修订第二次全体会议 部署义务教育课程标准修订工作',\n",
       "   'article_url': 'http://www.moe.gov.cn/moe_1485/202008/t20200827_480433.html'},\n",
       "  {'post_date': '2020-08-26',\n",
       "   'title': '深入贯彻习近平总书记重要指示精神 在营养改善计划实施中坚决制止餐饮浪费行为',\n",
       "   'article_url': 'http://www.moe.gov.cn/s5987/202008/t20200826_480324.html'},\n",
       "  {'post_date': '2020-08-26',\n",
       "   'title': '教育部等六部门下发通知联合开展未成年人网络环境专项治理行动',\n",
       "   'article_url': 'http://www.moe.gov.cn/s5987/202008/t20200826_480307.html'},\n",
       "  {'post_date': '2020-08-25',\n",
       "   'title': '教育部联合中国红十字会总会印发通知要求进一步加强和改进新时代学校红十字工作',\n",
       "   'article_url': 'http://www.moe.gov.cn/s5987/202008/t20200825_480156.html'},\n",
       "  {'post_date': '2020-08-25',\n",
       "   'title': '陈宝生调研指导四川教育脱贫攻坚工作',\n",
       "   'article_url': 'http://www.moe.gov.cn/moe_1485/202008/t20200825_480142.html'},\n",
       "  {'post_date': '2020-08-25',\n",
       "   'title': '教育部江西省共建国家职业教育创新发展高地',\n",
       "   'article_url': 'http://www.moe.gov.cn/s5987/202008/t20200825_479999.html'}]}"
      ]
     },
     "execution_count": 75,
     "metadata": {},
     "output_type": "execute_result"
    }
   ],
   "source": [
    "gj_edu_result"
   ]
  }
 ],
 "metadata": {
  "kernelspec": {
   "display_name": "Python 3",
   "language": "python",
   "name": "python3"
  },
  "language_info": {
   "codemirror_mode": {
    "name": "ipython",
    "version": 3
   },
   "file_extension": ".py",
   "mimetype": "text/x-python",
   "name": "python",
   "nbconvert_exporter": "python",
   "pygments_lexer": "ipython3",
   "version": "3.6.8"
  },
  "notify_time": "5",
  "toc": {
   "base_numbering": 1,
   "nav_menu": {},
   "number_sections": true,
   "sideBar": true,
   "skip_h1_title": false,
   "title_cell": "Table of Contents",
   "title_sidebar": "Contents",
   "toc_cell": false,
   "toc_position": {
    "height": "calc(100% - 180px)",
    "left": "10px",
    "top": "150px",
    "width": "165px"
   },
   "toc_section_display": true,
   "toc_window_display": true
  }
 },
 "nbformat": 4,
 "nbformat_minor": 2
}
